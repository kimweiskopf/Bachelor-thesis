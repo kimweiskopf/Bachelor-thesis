{
 "cells": [
  {
   "cell_type": "markdown",
   "id": "4e8a2268",
   "metadata": {},
   "source": [
    " # File zum speichern der Locations von D_p\n",
    " "
   ]
  },
  {
   "cell_type": "code",
   "execution_count": 1,
   "id": "014417e5",
   "metadata": {},
   "outputs": [],
   "source": [
    "import numpy as np"
   ]
  },
  {
   "cell_type": "code",
   "execution_count": 2,
   "id": "c2fcd5d3",
   "metadata": {},
   "outputs": [],
   "source": [
    "# Konstanten Einheitenlos\n",
    "M_STAR=1\n",
    "mmr=2\n",
    "\n",
    "G=1\n",
    "R_0=1 #1 au\n",
    "\n",
    "SIGMA_0=1e-4*M_STAR *R_0**(-2)\n",
    "SIGMASLOPE=1.5\n",
    "\n",
    "ALPHAVISCOSITY=1e-3       \n",
    "TSLOPE=0.5           \n",
    "FLARINGINDEX=0.25        \n",
    "H_0=0.06"
   ]
  },
  {
   "cell_type": "code",
   "execution_count": 3,
   "id": "ee7ecd12",
   "metadata": {},
   "outputs": [],
   "source": [
    "#Functions for the Resonance location\n",
    "def omega_kepler(r):\n",
    "    return np.sqrt(G*M_STAR/(r**3))\n",
    "\n",
    "def surface_density(r):\n",
    "    return SIGMA_0* (r/R_0)**(-SIGMASLOPE)\n",
    "def aspect_ratio(r):\n",
    "    return H_0 *(r/R_0)**FLARINGINDEX\n",
    "\n",
    "def r_lim_k(r):\n",
    "    return r-aspect_ratio(r)*r *2/3 ,r+aspect_ratio(r)*r *2/3\n",
    "\n",
    "\n",
    "\n",
    "def vk(r):\n",
    "    return np.sqrt(G*M_STAR/r)\n",
    "\n",
    "def cs(r):\n",
    "    return aspect_ratio(r)*vk(r)\n",
    "\n",
    "def press(r):\n",
    "    return surface_density(r)*cs(r)**2\n",
    "\n",
    "def dfdlnr(f,r,*args):\n",
    "    rp       = r * (1+1e-5)\n",
    "    lnr      = np.log(r)\n",
    "    lnrp     = np.log(rp)\n",
    "    return (f(rp,*args)-f(r,*args))/(lnrp-lnr)\n",
    "                                     \n",
    "def dlnsigmadlnr(r):\n",
    "    return dfdlnr(sigma,r)/sigma(r)\n",
    "                                     \n",
    "def dlnpdlnr(r):\n",
    "    return dfdlnr(press,r)/press(r)\n",
    "                                     \n",
    "def omphi(r):\n",
    "    return omega_kepler(r) * np.sqrt(1+(cs(r)**2/vk(r)**2)*dlnpdlnr(r))\n",
    "                                     \n",
    "def kappa(r):\n",
    "    qkap = -dfdlnr(omphi,r)/omphi(r)\n",
    "    return np.sqrt(2*(2-qkap))*omphi(r)\n",
    "                                     "
   ]
  },
  {
   "cell_type": "code",
   "execution_count": 4,
   "id": "ba9a8382",
   "metadata": {},
   "outputs": [
    {
     "data": {
      "text/plain": [
       "''"
      ]
     },
     "execution_count": 4,
     "metadata": {},
     "output_type": "execute_result"
    }
   ],
   "source": [
    "#Resonance locations\n",
    "def D10_pos2(rp,m, nr=1000000):\n",
    "    r=np.logspace(-1,1.3, nr)\n",
    "\n",
    "    D10=kappa(r)**2-m[:,None][:,None]**2 *(omphi(r)-omega_kepler(rp)[:,None])**2\n",
    "    idx, idy, idz = np.where(np.sign(D10[:,:,1:]*D10[:,:,:-1])==-1)\n",
    "    \n",
    "    \n",
    "    idxin , idyin, idzin = idx[::2],idy[::2],idz[::2]\n",
    "    idxout, idyout, idzout = idx[1::2],idy[1::2],idz[1::2]\n",
    "    \n",
    "    posout = np.zeros_like(D10[:,:, 0])\n",
    "    posin = np.zeros_like(D10[:,:, 0])\n",
    "    \n",
    "    if m==np.arange(1,2):   \n",
    "        \n",
    "        posin[0]=0\n",
    "        posout[idx, idy]=r[idz]\n",
    "        \n",
    "    else:\n",
    "        posin[idxin, idyin] = (r[idzin]+r[idzin+1])/2\n",
    "        posout[idxout, idyout] = (r[idzout]+r[idzout+1])/2    \n",
    "                                            \n",
    "    return posin, posout \n"
   ]
  },
  {
   "cell_type": "code",
   "execution_count": 5,
   "id": "2c1d19b5",
   "metadata": {},
   "outputs": [],
   "source": [
    "#Abspeichern der Daten\n",
    "\n",
    "with open(f\"D_p_in{mmr}_{H_0}_{FLARINGINDEX}_{SIGMA_0}.dat\",'a') as f:\n",
    "    with open(f\"D_p_out{mmr}_{H_0}_{FLARINGINDEX}_{SIGMA_0}.dat\",'a') as g:\n",
    "        for j in np.arange(1,20):\n",
    "            \n",
    "            k_array_in=np.array([])\n",
    "            k_array_out=np.array([])\n",
    "            \n",
    "            \n",
    "            for i in np.arange(0.1,2,0.1):\n",
    "\n",
    "                rp=np.arange(1+i,1.1+i-0.001,0.001)\n",
    "                rpo=rp*mmr**(2/3)\n",
    "                m=np.arange(j,j+1)\n",
    "                ki=D10_pos2(rp,m, nr=1000000)[0]\n",
    "                k0=D10_pos2(rpo,m, nr=1000000)[1]\n",
    "\n",
    "                k_array_in =np.append(k_array_in,*ki)\n",
    "                k_array_out =np.append(k_array_out,*k0)\n",
    "\n",
    "\n",
    "            np.savetxt(f,k_array_in.flatten(), newline = \" \")\n",
    "            np.savetxt(g,k_array_out.flatten(), newline = \" \")\n"
   ]
  },
  {
   "cell_type": "markdown",
   "id": "47d81d83",
   "metadata": {},
   "source": [
    "a=np.loadtxt(f\"D10_in{mmr}.dat\")\n",
    "a.reshape(len(np.arange(1,20)),len(np.arange(1.1,2.3,0.001)))"
   ]
  }
 ],
 "metadata": {
  "kernelspec": {
   "display_name": "Python 3 (ipykernel)",
   "language": "python",
   "name": "python3"
  },
  "language_info": {
   "codemirror_mode": {
    "name": "ipython",
    "version": 3
   },
   "file_extension": ".py",
   "mimetype": "text/x-python",
   "name": "python",
   "nbconvert_exporter": "python",
   "pygments_lexer": "ipython3",
   "version": "3.9.7"
  }
 },
 "nbformat": 4,
 "nbformat_minor": 5
}
