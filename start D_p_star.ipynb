{
 "cells": [
  {
   "cell_type": "markdown",
   "id": "99cc1453",
   "metadata": {},
   "source": [
    "# File to start the file which Saves the Resonance locations of D_p,*"
   ]
  },
  {
   "cell_type": "code",
   "execution_count": 3,
   "id": "15fca89a",
   "metadata": {},
   "outputs": [],
   "source": [
    "import numpy as np\n",
    "\n",
    "filename='D_p_star_locations'"
   ]
  },
  {
   "cell_type": "code",
   "execution_count": 4,
   "id": "bf0b8016",
   "metadata": {},
   "outputs": [
    {
     "name": "stdout",
     "output_type": "stream",
     "text": [
      "Text replaced\n",
      "Text replaced\n",
      "Text replaced\n",
      "Text replaced\n",
      "Text replaced\n"
     ]
    }
   ],
   "source": [
    "#replace the values for my different simulation setups\n",
    "\n",
    "search_h0=['H_0=0.06','H_0=0.06','H_0=0.06','H_0=0.06','H_0=0.07']\n",
    "replace_h0=['H_0=0.06','H_0=0.06','H_0=0.06','H_0=0.07','H_0=0.06']\n",
    "\n",
    "search_sigma0=['SIGMA_0=1e-3','SIGMA_0=1e-3','SIGMA_0=1e-3','SIGMA_0=1e-3','SIGMA_0=1e-3']\n",
    "replace_sigma0=['SIGMA_0=1e-3','SIGMA_0=1e-3','SIGMA_0=1e-3','SIGMA_0=1e-3','SIGMA_0=1e-4']\n",
    "\n",
    "\n",
    "search_FLARINGINDEX=['FLARINGINDEX=0.3333','FLARINGINDEX=0.3333','FLARINGINDEX=0.2','FLARINGINDEX=0.25','FLARINGINDEX=0.25']\n",
    "replace_FLARINGINDEX=['FLARINGINDEX=0.3333','FLARINGINDEX=0.2','FLARINGINDEX=0.25','FLARINGINDEX=0.25','FLARINGINDEX=0.25']\n",
    "\n",
    "\n",
    "for i in np.arange(0,len(search_h0),1):\n",
    "    with open(f'/home/kim/Dokumente/Uni/Bachelor/Migration/Neuer_Start/{filename}.ipynb', 'r') as file:\n",
    "        # Reading the content of the file\n",
    "        # using the read() function and storing them in a new variable\n",
    "        data = file.read()\n",
    "        \n",
    "        # Searching and replacing the text using the replace() function\n",
    "        data = data.replace(search_sigma0[i], replace_sigma0[i])\n",
    "        data = data.replace(search_h0[i], replace_h0[i])\n",
    "        data = data.replace(search_FLARINGINDEX[i], replace_FLARINGINDEX[i])\n",
    "\n",
    "        \n",
    "    with open(f'/home/kim/Dokumente/Uni/Bachelor/Migration/Neuer_Start/{filename}.ipynb', 'w') as file:\n",
    "        file.write(data)\n",
    "        print(\"Text replaced\")\n",
    "        \n",
    "    %run D_p_star_locations.ipynb"
   ]
  }
 ],
 "metadata": {
  "kernelspec": {
   "display_name": "Python 3 (ipykernel)",
   "language": "python",
   "name": "python3"
  },
  "language_info": {
   "codemirror_mode": {
    "name": "ipython",
    "version": 3
   },
   "file_extension": ".py",
   "mimetype": "text/x-python",
   "name": "python",
   "nbconvert_exporter": "python",
   "pygments_lexer": "ipython3",
   "version": "3.9.7"
  }
 },
 "nbformat": 4,
 "nbformat_minor": 5
}
