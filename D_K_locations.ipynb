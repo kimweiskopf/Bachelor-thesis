{
 "cells": [
  {
   "cell_type": "markdown",
   "id": "4e8a2268",
   "metadata": {},
   "source": [
    " # File zum speichern der Locations von Kley"
   ]
  },
  {
   "cell_type": "code",
   "execution_count": 1,
   "id": "014417e5",
   "metadata": {},
   "outputs": [],
   "source": [
    "import numpy as np"
   ]
  },
  {
   "cell_type": "code",
   "execution_count": 2,
   "id": "c2fcd5d3",
   "metadata": {},
   "outputs": [],
   "source": [
    "# Konstanten Einheitenlos\n",
    "M_STAR=1\n",
    "mmr=2\n",
    "\n",
    "G=1\n",
    "R_0=1 #1 au\n",
    " \n",
    "FLARINGINDEX=0.25       \n",
    "H_0=0.07"
   ]
  },
  {
   "cell_type": "code",
   "execution_count": 3,
   "id": "ee7ecd12",
   "metadata": {},
   "outputs": [],
   "source": [
    "#Functions for the Resonance location\n",
    "\n",
    "def omega_kepler(r):\n",
    "    return np.sqrt(G*M_STAR/r**3)\n",
    "\n",
    "def aspect_ratio(r):\n",
    "    return H_0 *(r/R_0)**FLARINGINDEX\n"
   ]
  },
  {
   "cell_type": "code",
   "execution_count": 4,
   "id": "ba9a8382",
   "metadata": {},
   "outputs": [],
   "source": [
    "#Resonance locations\n",
    "def Kley_pos2(rp,m, nr=1000000):\n",
    "    r=np.logspace(-1,1.3, nr)\n",
    "    \n",
    "    Kley= (omega_kepler(r)-omega_kepler(rp)[:,None])**2 *m[:,None][:,None]**2 \n",
    "    Kley-=omega_kepler(r)**2 *(1+m[:,None][:,None]**2 *aspect_ratio(r)**2)\n",
    "    \n",
    "    idx, idy, idz = np.where(np.sign(Kley[:,:,1:]*Kley[:,:,:-1])==-1)\n",
    " \n",
    "    idxin , idyin, idzin = idx[::2],idy[::2],idz[::2]\n",
    "    idxout, idyout, idzout = idx[1::2],idy[1::2],idz[1::2]\n",
    "    \n",
    "    posout = np.zeros_like(Kley[:,:, 0])\n",
    "    posin = np.zeros_like(Kley[:,:, 0])\n",
    "    \n",
    "    if m==np.arange(1,2):   \n",
    "        \n",
    "        posin[0]=0\n",
    "        posout[idx, idy]=r[idz]\n",
    "        \n",
    "    else:\n",
    "        posin[idxin, idyin] = (r[idzin]+r[idzin+1])/2\n",
    "        posout[idxout, idyout] = (r[idzout]+r[idzout+1])/2      \n",
    "\n",
    "                                            \n",
    "    return posin, posout "
   ]
  },
  {
   "cell_type": "code",
   "execution_count": 5,
   "id": "2c1d19b5",
   "metadata": {},
   "outputs": [],
   "source": [
    "#Abspeichern der Daten\n",
    "\n",
    "with open(f\"D_K_locations_in{mmr}_{H_0}_{FLARINGINDEX}.dat\",'a') as f:\n",
    "    with open(f\"D_K_locations_out{mmr}_{H_0}_{FLARINGINDEX}.dat\",'a') as g:\n",
    "        for j in np.arange(1,20):\n",
    "            \n",
    "            k_array_in=np.array([])\n",
    "            k_array_out=np.array([])\n",
    "            \n",
    "            \n",
    "            for i in np.arange(0.1,2,0.1):\n",
    "\n",
    "                rp_in=np.arange(1+i,1.1+i-0.001,0.001)\n",
    "                rp_out=rp_in*mmr**(2/3)\n",
    "                m=np.arange(j,j+1)\n",
    "                \n",
    "                ki=Kley_pos2(rp_in,m, nr=1000000)[0]\n",
    "                ko=Kley_pos2(rp_out,m, nr=1000000)[1]\n",
    "\n",
    "                k_array_in =np.append(k_array_in,*ki)\n",
    "                k_array_out =np.append(k_array_out,*ko)\n",
    "\n",
    "\n",
    "            np.savetxt(f,k_array_in.flatten(), newline = \" \")\n",
    "            np.savetxt(g,k_array_out.flatten(), newline = \" \")\n"
   ]
  },
  {
   "cell_type": "code",
   "execution_count": 16,
   "id": "55391713",
   "metadata": {},
   "outputs": [
    {
     "data": {
      "text/plain": [
       "array([[0.        , 0.        , 0.        , ..., 0.        , 0.        ,\n",
       "        0.        ],\n",
       "       [0.68920701, 0.68983145, 0.69045645, ..., 1.87056895, 1.87119316,\n",
       "        1.87181758],\n",
       "       [0.83386716, 0.83462266, 0.83537884, ..., 2.26144018, 2.26219482,\n",
       "        2.26293774],\n",
       "       ...,\n",
       "       [1.03156634, 1.03249549, 1.03342   , ..., 2.77658002, 2.77749185,\n",
       "        2.77840399],\n",
       "       [1.03310809, 1.03403863, 1.03496453, ..., 2.78015554, 2.78106855,\n",
       "        2.78198186],\n",
       "       [1.03443847, 1.03537021, 1.03630279, ..., 2.78321973, 2.78413375,\n",
       "        2.78504807]])"
      ]
     },
     "execution_count": 16,
     "metadata": {},
     "output_type": "execute_result"
    }
   ],
   "source": [
    "a=np.loadtxt(f\"kley_locations_in{mmr}_{H_0}_{FLARINGINDEX}.dat\")\n",
    "a.reshape(len(np.arange(1,20)),len(np.arange(1.1,3 - 0.002,0.001)))"
   ]
  }
 ],
 "metadata": {
  "kernelspec": {
   "display_name": "Python 3 (ipykernel)",
   "language": "python",
   "name": "python3"
  },
  "language_info": {
   "codemirror_mode": {
    "name": "ipython",
    "version": 3
   },
   "file_extension": ".py",
   "mimetype": "text/x-python",
   "name": "python",
   "nbconvert_exporter": "python",
   "pygments_lexer": "ipython3",
   "version": "3.9.7"
  }
 },
 "nbformat": 4,
 "nbformat_minor": 5
}
